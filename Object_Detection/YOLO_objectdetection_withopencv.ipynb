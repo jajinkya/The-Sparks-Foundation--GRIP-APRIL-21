{
 "cells": [
  {
   "cell_type": "markdown",
   "metadata": {},
   "source": [
    "# Task 1: Object Detection/ Optical character recognition "
   ]
  },
  {
   "cell_type": "markdown",
   "metadata": {},
   "source": [
    "## Problem Statement: Implement an object detector which identifies the classes of the objects in an image/video.\n",
    "\n",
    "- Maintained by - **Ajinkya Jadhav**"
   ]
  },
  {
   "cell_type": "markdown",
   "metadata": {},
   "source": [
    "### Reference :\n",
    "- Big thanks to **Adrian Rosebrock** explaining how to implement computer vision model practically.🙏🙏 \n",
    "- I have learned to implement this CV model from his tutorial."
   ]
  },
  {
   "cell_type": "markdown",
   "metadata": {},
   "source": [
    "### Import required libraries"
   ]
  },
  {
   "cell_type": "code",
   "execution_count": 10,
   "metadata": {
    "scrolled": false
   },
   "outputs": [],
   "source": [
    "# import the necessary packages\n",
    "import numpy as np\n",
    "import time\n",
    "import cv2\n",
    "import os\n",
    "import matplotlib.pyplot as plt\n",
    "import imutils"
   ]
  },
  {
   "cell_type": "code",
   "execution_count": 11,
   "metadata": {},
   "outputs": [],
   "source": [
    "base_path = os.getcwd()\n",
    "config_path = os.path.sep.join([base_path, 'model_config'])"
   ]
  },
  {
   "cell_type": "markdown",
   "metadata": {},
   "source": [
    "### Project Outline:\n",
    "- Using `YOLOv3` pretrained on `Coco` datasets which has 80 class labels.\n",
    "- We first try to predict in the image or video whether given class labels objects are present or not.\n",
    "- Then we bound a box around it with respective assigned colors and show the confidence of the model for that object."
   ]
  },
  {
   "cell_type": "markdown",
   "metadata": {},
   "source": [
    "#### Load the pretrained model"
   ]
  },
  {
   "cell_type": "code",
   "execution_count": 3,
   "metadata": {},
   "outputs": [],
   "source": [
    "# load the COCO class labels our YOLO model was trained on\n",
    "lables_path = os.path.sep.join([config_path, 'coco.names'])\n",
    "\n",
    "LABELS = open(lables_path).read().strip().split(\"\\n\") # list of categories on which model trained\n",
    "#print(len(LABELS))# there are total 80 class labels\n",
    "# initialize a list of colors to represent each possible class label\n",
    "np.random.seed(42)\n",
    "COLORS = np.random.randint(0, 255, size=(len(LABELS), 3),\n",
    "                           dtype='uint8') # decides colors to detect each class"
   ]
  },
  {
   "cell_type": "code",
   "execution_count": 4,
   "metadata": {},
   "outputs": [
    {
     "name": "stdout",
     "output_type": "stream",
     "text": [
      "Loading YOLO...\n"
     ]
    }
   ],
   "source": [
    "# derive the paths to the YOLO weights and model configuration\n",
    "weightsPath = os.path.sep.join([config_path, 'yolov3.weights'])\n",
    "configPath = os.path.sep.join([config_path, 'yolov3.cfg'])\n",
    "\n",
    "# load our YOLO object detector trained on COCO dataset(80 classes)\n",
    "print(\"Loading YOLO...\")\n",
    "net = cv2.dnn.readNetFromDarknet(configPath, weightsPath)"
   ]
  },
  {
   "cell_type": "markdown",
   "metadata": {},
   "source": [
    "### Evaluating the model on the image"
   ]
  },
  {
   "cell_type": "code",
   "execution_count": 5,
   "metadata": {},
   "outputs": [],
   "source": [
    "img_path = os.path.sep.join([base_path, 'examples'])"
   ]
  },
  {
   "cell_type": "code",
   "execution_count": 6,
   "metadata": {},
   "outputs": [
    {
     "name": "stdout",
     "output_type": "stream",
     "text": [
      "YOLO took 6.152124 seconds\n"
     ]
    }
   ],
   "source": [
    "# load our input image and grab its spatial dimension\n",
    "img_path = os.path.sep.join([img_path,'plaughing.jpg'])\n",
    "image =  cv2.imread(img_path)\n",
    "(H, W) = image.shape[:2]\n",
    "\n",
    "# determine only the *output* layer names that we need from YOLO\n",
    "ln = net.getLayerNames()\n",
    "#un_ln = net.getUnconnectedOutLayers()\n",
    "ln = [ln[i[0] - 1]for i in net.getUnconnectedOutLayers()]\n",
    "\n",
    "# construct a blob from the input image and then perform a forward\n",
    "# pass of the YOLO object detector,giving us our bounding boxes and \n",
    "# associated probabilities\n",
    "blob = cv2.dnn.blobFromImage(image, 1/ 255.0,(416, 416),\n",
    "                            swapRB = True, crop=False)\n",
    "net.setInput(blob)\n",
    "start = time.time()\n",
    "layerOutputs = net.forward(ln)\n",
    "end  = time.time()\n",
    "\n",
    "# show timing information on YOLO\n",
    "print(\"YOLO took {:.6f} seconds\".format(end - start))"
   ]
  },
  {
   "cell_type": "code",
   "execution_count": 7,
   "metadata": {},
   "outputs": [],
   "source": [
    "# initialize our lists of detected bounding boxes, confidences, and\n",
    "# class IDs,respectively\n",
    "boxes = []\n",
    "confidences = []\n",
    "classIDs = []\n",
    "\n",
    "# loop over each of the layer outputs\n",
    "for output in layerOutputs:\n",
    "    # loop over each of the detections\n",
    "    #print(output.shape)\n",
    "    for detection in output:\n",
    "        #  extract the class ID and confidence (i.e. probability) of\n",
    "        # the current object detection\n",
    "        scores = detection[5:]\n",
    "        classID = np.argmax(scores)\n",
    "        confidence = scores[classID]\n",
    "        \n",
    "        # filter out weak predictions by ensuring the deteccted\n",
    "        # probability is greater than the minimum probability\n",
    "        if confidence > 0.5:\n",
    "            # scale the bounding box coordinates back  relative to the\n",
    "            # size of the image, keeping in mind that YOLO actually\n",
    "            # returns the center (x, y)- coordinates of the bounding\n",
    "            # box followed by the boxes' width and height\n",
    "            box = detection[0:4]* np.array([W, H, W, H])\n",
    "            (centerX, centerY, width, height) = box.astype(\"int\")\n",
    "            \n",
    "            # use the center (x, y)-coordinates to derive the top and\n",
    "            # and left corner of the bounding box\n",
    "            x = int(centerX - (width / 2))\n",
    "            y = int(centerY - (height / 2))\n",
    "            \n",
    "            # update our list of bounding box coordinates,confidences,\n",
    "            # and class IDs\n",
    "            boxes.append([x, y, int(width), int(height)])\n",
    "            confidences.append(float(confidence))\n",
    "            classIDs.append(classID)\n",
    "            \n",
    "\n",
    "# apply non-maxima suppression to suppress weak, overlapping bounding\n",
    "# boxes\n",
    "idxs = cv2.dnn.NMSBoxes(boxes, confidences, 0.5, 0.3)"
   ]
  },
  {
   "cell_type": "code",
   "execution_count": 8,
   "metadata": {},
   "outputs": [
    {
     "data": {
      "text/plain": [
       "-1"
      ]
     },
     "execution_count": 8,
     "metadata": {},
     "output_type": "execute_result"
    }
   ],
   "source": [
    "# ensure at least one detection exists\n",
    "if len(idxs) > 0:\n",
    "    # loop over the indexes we are keeping\n",
    "    for i in idxs.flatten():\n",
    "        # extract the bounding box coordinates\n",
    "        (x, y) = (boxes[i][0], boxes[i][1])\n",
    "        (w, h) = (boxes[i][2], boxes[i][3])\n",
    "        # draw a bounding box rectangle and label on the image\n",
    "        color = [int(c) for c in COLORS[classIDs[i]]]\n",
    "        cv2.rectangle(image, (x, y), (x + w, y + h), color, 2)\n",
    "        text = \"{}: {:.4f}\".format(LABELS[classIDs[i]], confidences[i])\n",
    "        cv2.putText(image, text, (x, y - 5), cv2.FONT_HERSHEY_SIMPLEX,\n",
    "                    0.5, color, 2)\n",
    "# show the output image\n",
    "cv2.imshow(\"Image\", image)\n",
    "cv2.waitKey(0)"
   ]
  },
  {
   "cell_type": "markdown",
   "metadata": {},
   "source": [
    "### Evaluating model on video"
   ]
  },
  {
   "cell_type": "code",
   "execution_count": 9,
   "metadata": {},
   "outputs": [],
   "source": [
    "video_path = os.sep.join([base_path,'Videos'])\n",
    "output_path = os.sep.join([base_path,'Output','output2.avi'])"
   ]
  },
  {
   "cell_type": "code",
   "execution_count": 12,
   "metadata": {},
   "outputs": [
    {
     "name": "stdout",
     "output_type": "stream",
     "text": [
      "Loading YOLO ...\n",
      "749 total frames in video\n",
      "Single frame took 4.9967 seconds\n",
      "Estimated total time to finish: 3742.5380\n",
      "Cleaning up...\n"
     ]
    }
   ],
   "source": [
    "# Load the COCO class labels that the YOLO model was trained on\n",
    "labelsPath = os.path.sep.join([config_path, \"coco.names\"])\n",
    "LABELS = open(labelsPath).read().strip().split(\"\\n\")\n",
    "\n",
    "# Initialize the color list to represent each possible class label\n",
    "np.random.seed(42)\n",
    "COLORS = np.random.randint(0, 255, size=(len(LABELS), 3), dtype=\"uint8\")\n",
    "\n",
    "# Derive the paths to the YOLO weights and model configuration\n",
    "weightsPath = os.path.sep.join([config_path, \"yolov3.weights\"])\n",
    "configPath = os.path.sep.join([config_path, \"yolov3.cfg\"])\n",
    "\n",
    "# Load the YOLO object detector trained on COCO dataset (80 classes)\n",
    "# and determine only the output layer names that we need from YOLO\n",
    "print(\"Loading YOLO ...\")\n",
    "net = cv2.dnn.readNetFromDarknet(configPath, weightsPath)\n",
    "ln = net.getLayerNames()\n",
    "ln = [ln[i[0] - 1] for i in net.getUnconnectedOutLayers()]\n",
    "\n",
    "# Initialize the video stream, pointer to output video file and frame dimensions\n",
    "vs = cv2.VideoCapture(os.path.sep.join([video_path, 'airport.mp4']))\n",
    "writer = None\n",
    "(W, H) = (None, None)\n",
    "\n",
    "# Try to determine the total number of frames in the video file\n",
    "try:\n",
    "    prop = cv2.cv.CV_CAP_PROP_FRAME_COUNT if imutils.is_cv2() \\\n",
    "        else cv2.CAP_PROP_FRAME_COUNT\n",
    "    total = int(vs.get(prop))\n",
    "    print(\"{} total frames in video\".format(total))\n",
    "# an error occurred while trying to determine the total number of frames in the video file\n",
    "except:\n",
    "    print(\"Could not determine # of frames in video\")\n",
    "    print(\"No approx. completion time can be provided\")\n",
    "    total = -1\n",
    "\n",
    "# Loop over frames from the video file stream\n",
    "while True:\n",
    "    # read the next frame from the file\n",
    "    (grabbed, frame) = vs.read()\n",
    "    # if the frame was not grabbed then we have reached the end of the stream\n",
    "    if not grabbed:\n",
    "        break\n",
    "    # if the frame dimensions are empty grab them\n",
    "    if W is None or H is None:\n",
    "        (H, W) = frame.shape[:2]\n",
    "    # construct a blob from the input frame and then perform a forward pass of the YOLO object detector\n",
    "    # giving us our bouding boxes and associated probabilities\n",
    "    blob = cv2.dnn.blobFromImage(frame, 1 / 255.0, (416, 416), \n",
    "                                 swapRB=True, crop=False)\n",
    "    net.setInput(blob)\n",
    "    start = time.time()\n",
    "    layerOutputs = net.forward(ln)\n",
    "    end = time.time()\n",
    "    # initialize our list of detected bounding boxes, confidences and class IDs, respectively\n",
    "    boxes = []\n",
    "    confidences = []\n",
    "    classIDs = []\n",
    "    # loop over each one of the layer outputs\n",
    "    for output in layerOutputs:\n",
    "        # loop over each of the detections\n",
    "        for detection in output:\n",
    "            # extract the class ID and confidence (i.e, probability) of the current object detection\n",
    "            scores = detection[5:]\n",
    "            classID = np.argmax(scores)\n",
    "            confidence = scores[classID]\n",
    "            # filter out weak predictions by ensuring the detected probability is greater than the minimum probability\n",
    "            if confidence > 0.5:\n",
    "                # scale the bounding box coordinates back relative to the size of the image, keeping in mind that YOLO\n",
    "                # actually returns the center (x, y) coordinates of the bounding box followed by the boxes width and height\n",
    "                box = detection[0:4] * np.array([W, H, W, H])\n",
    "                (centerX, centerY, width, height) = box.astype(\"int\")\n",
    "                # use the center (x, y)-coordinates to derive the top and and left corner of the bounding box\n",
    "                x = int(centerX - (width / 2))\n",
    "                y = int(centerY - (height / 2))\n",
    "                # update our list of bounding box coordinates, confidences, and class IDs\n",
    "                boxes.append([x, y, int(width), int(height)])\n",
    "                confidences.append(float(confidence))\n",
    "                classIDs.append(classID)\n",
    "    # apply non-maxima suppression to suppress weak, overlapping bounding boxes\n",
    "    idxs = cv2.dnn.NMSBoxes(boxes, confidences, 0.5, 0.3)\n",
    "    # ensure at least one detection exists\n",
    "    if len(idxs) > 0:\n",
    "        # loop over the indexes we are keeping\n",
    "        for i in idxs.flatten():\n",
    "            # extract the bounding box coordinates\n",
    "            (x, y) = (boxes[i][0], boxes[i][1])\n",
    "            (w, h) = (boxes[i][2], boxes[i][3])\n",
    "            # draw a bounding box rectangle and label on the frame\n",
    "            color = [int(c) for c in COLORS[classIDs[i]]]\n",
    "            cv2.rectangle(frame, (x, y), (x + w, y + h), color, 2)\n",
    "            text = \"{}: {:.4f}\".format(LABELS[classIDs[i]], confidences[i])\n",
    "            cv2.putText(frame, text, (x, y - 5), cv2.FONT_HERSHEY_SIMPLEX, 0.5, color, 2)\n",
    "    # check if the video writer is None\n",
    "    if writer is None:\n",
    "        # initialize our video writer\n",
    "        fourcc = cv2.VideoWriter_fourcc(*\"MJPG\")\n",
    "        writer = cv2.VideoWriter(output_path, fourcc, 30, (frame.shape[1], frame.shape[0]), True)\n",
    "        # some information on processing single frame\n",
    "        if total > 0:\n",
    "            elap = (end - start)\n",
    "            print(\"Single frame took {:.4f} seconds\".format(elap))\n",
    "            print(\"Estimated total time to finish: {:.4f}\".format(elap * total))\n",
    "    # write the output frame to disk\n",
    "    writer.write(frame)\n",
    "\n",
    "# release the file pointers\n",
    "print(\"Cleaning up...\")\n",
    "writer.release()\n",
    "vs.release()"
   ]
  },
  {
   "cell_type": "code",
   "execution_count": null,
   "metadata": {},
   "outputs": [],
   "source": []
  }
 ],
 "metadata": {
  "kernelspec": {
   "display_name": "Python 3",
   "language": "python",
   "name": "python3"
  },
  "language_info": {
   "codemirror_mode": {
    "name": "ipython",
    "version": 3
   },
   "file_extension": ".py",
   "mimetype": "text/x-python",
   "name": "python",
   "nbconvert_exporter": "python",
   "pygments_lexer": "ipython3",
   "version": "3.7.3"
  }
 },
 "nbformat": 4,
 "nbformat_minor": 2
}
